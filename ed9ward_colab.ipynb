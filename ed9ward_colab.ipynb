{
  "cells": [
    {
      "cell_type": "markdown",
      "metadata": {
        "id": "view-in-github",
        "colab_type": "text"
      },
      "source": [
        "<a href=\"https://colab.research.google.com/github/ed9ward/PythonEd/blob/main/ed9ward_colab.ipynb\" target=\"_parent\"><img src=\"https://colab.research.google.com/assets/colab-badge.svg\" alt=\"Open In Colab\"/></a>"
      ]
    },
    {
      "cell_type": "code",
      "source": [
        "import re\n",
        "s = '''04 (+1)\n",
        "Какой-то текст\n",
        "05 (0,5)\n",
        "Какой-то текст\n",
        "06 (-0.5)\n",
        "Какой-то текст\n",
        "'''\n",
        "\n",
        "m = re.finditer(r'(^[0-9]{2}) ([(]+[+-]?[0-9][,.]?[0-9]?[)]+)', s, re.MULTILINE)\n",
        "for mtch in m: \n",
        "    print(f'Day {mtch.group(1)} and score {mtch.group(2)}')"
      ],
      "metadata": {
        "colab": {
          "base_uri": "https://localhost:8080/"
        },
        "id": "OxdJJOizY93a",
        "outputId": "e9c89b56-b795-4216-9bb9-b60e4c1c72f6"
      },
      "execution_count": null,
      "outputs": [
        {
          "output_type": "stream",
          "name": "stdout",
          "text": [
            "Day 04 and score (+1)\n",
            "Day 05 and score (0,5)\n",
            "Day 06 and score (-0.5)\n"
          ]
        }
      ]
    },
    {
      "cell_type": "code",
      "source": [
        "def shift_letter(n, sh):\n",
        "    '''Функция сдвигает символ letter на shift позиций'''\n",
        "    return chr(((ord(n) - 97 + sh) % 26) + 97)\n",
        "\n",
        "print(shift_letter('w',-27))"
      ],
      "metadata": {
        "id": "2XzR49ao6-KN"
      },
      "execution_count": null,
      "outputs": []
    },
    {
      "cell_type": "code",
      "source": [
        "# itertools\n",
        "import itertools as it\n",
        "even_num = it.count(0, 2)\n",
        "l = list(next(even_num) for _ in range(5))\n",
        "print(l)\n",
        "\n",
        "pows = list(map(pow, range(10), it.repeat(2)))\n",
        "print(pows)"
      ],
      "metadata": {
        "id": "fWZFOspIUxep",
        "colab": {
          "base_uri": "https://localhost:8080/"
        },
        "outputId": "e52ed313-c204-4b6c-b374-cbb5ef0922d7"
      },
      "execution_count": null,
      "outputs": [
        {
          "output_type": "stream",
          "name": "stdout",
          "text": [
            "[0, 2, 4, 6, 8]\n",
            "[0, 1, 4, 9, 16, 25, 36, 49, 64, 81]\n"
          ]
        }
      ]
    },
    {
      "cell_type": "code",
      "source": [
        "# Fibonacci numbers\n",
        "def fibonacci_of(n):\n",
        "    if n in {0, 1}: return n\n",
        "\n",
        "    previous, fib_number = 0, 1\n",
        "    for _ in range(2, n + 1):\n",
        "        previous, fib_number = fib_number, previous + fib_number\n",
        "    return fib_number\n",
        "\n",
        "print(fibonacci_of(100))"
      ],
      "metadata": {
        "colab": {
          "base_uri": "https://localhost:8080/"
        },
        "id": "3iHK-EGF95vF",
        "outputId": "bf71a74f-4493-43f0-d3b0-4d3b9cc90137"
      },
      "execution_count": null,
      "outputs": [
        {
          "output_type": "stream",
          "name": "stdout",
          "text": [
            "354224848179261915075\n"
          ]
        }
      ]
    },
    {
      "cell_type": "code",
      "source": [
        "# Lucky ticket\n",
        "n = input().strip()\n",
        "print(('NO', 'YES')[sum(list(map(int, n[:3]))) == sum(list(map(int, n[3:])))])"
      ],
      "metadata": {
        "id": "AvwvACiu9Bho",
        "colab": {
          "base_uri": "https://localhost:8080/"
        },
        "outputId": "7a8e2a87-c0a4-42bc-cff8-87e8b2e6754f"
      },
      "execution_count": null,
      "outputs": [
        {
          "output_type": "stream",
          "name": "stdout",
          "text": [
            "0022000\n",
            "YES\n"
          ]
        }
      ]
    },
    {
      "cell_type": "code",
      "source": [
        "# Lucky ticket 2\n",
        "check = input()\n",
        "a = []\n",
        "for n in check:\n",
        "    a.append(int(n))\n",
        "#a = [int(i) for i in input()]\n",
        "if sum(a[:3]) == sum(a[3:]):\n",
        "    print('lucky ')\n",
        "else:\n",
        "    print('unlucky')"
      ],
      "metadata": {
        "id": "9vMnkEzG8kd_",
        "colab": {
          "base_uri": "https://localhost:8080/"
        },
        "outputId": "4ce8c0c3-62af-402b-8eb3-15e86e3a99f1"
      },
      "execution_count": null,
      "outputs": [
        {
          "output_type": "stream",
          "name": "stdout",
          "text": [
            "123321\n",
            "[1, 2, 3, 3, 2, 1]\n",
            "lucky \n"
          ]
        }
      ]
    },
    {
      "cell_type": "code",
      "source": [
        "s = [('English', 88), ('Science', 90), ('Maths', 88), ('Physics', 93), ('Art', 78), ('Programming', 91)]\n",
        "print(sorted(s, key = lambda x: (-x[1], x[0])))"
      ],
      "metadata": {
        "id": "v2lOVbXBsvdn",
        "colab": {
          "base_uri": "https://localhost:8080/"
        },
        "outputId": "1ccf1593-beae-4380-fd8d-499546520ed9"
      },
      "execution_count": 19,
      "outputs": [
        {
          "output_type": "stream",
          "name": "stdout",
          "text": [
            "[('Physics', 93), ('Programming', 91), ('Science', 90), ('English', 88), ('Maths', 88), ('Art', 78)]\n"
          ]
        }
      ]
    },
    {
      "cell_type": "code",
      "source": [
        "s = list(map(str.lower, input().replace(' ', ''))) # записываем по буквам в список ввод, приводим к нижнему регистру, заменяем пробелы на пустоту\n",
        "tup = list(map(lambda x: (x.upper(), x), s)) # в списке выводим в кортежах пары каждой буквы в разных регистрах\n",
        "print(s)\n",
        "print(tup)"
      ],
      "metadata": {
        "colab": {
          "base_uri": "https://localhost:8080/"
        },
        "id": "XYdnyRcmiJjE",
        "outputId": "3e52854d-3a58-4a33-f66b-ed875493f157"
      },
      "execution_count": null,
      "outputs": [
        {
          "output_type": "stream",
          "name": "stdout",
          "text": [
            "fdf fdg  G\n",
            "['f', 'd', 'f', 'f', 'd', 'g', 'g']\n",
            "[('F', 'f'), ('D', 'd'), ('F', 'f'), ('F', 'f'), ('D', 'd'), ('G', 'g'), ('G', 'g')]\n"
          ]
        }
      ]
    },
    {
      "cell_type": "code",
      "source": [
        "names = [('Gerald', 'Tucker'), ('Tricia', 'Johnson'), ('Robert', 'Mendez')]\n",
        "new_names = list(map(lambda x: str(x[0] + ' ' + x[1]), names)) # в список добавляем через пробел оба элемента каждого из кортежей в names\n",
        "print(new_names)"
      ],
      "metadata": {
        "colab": {
          "base_uri": "https://localhost:8080/"
        },
        "id": "OIrmjRJdnYU3",
        "outputId": "84fbd9a9-f29f-4b29-9440-7fbdbfb7dee6"
      },
      "execution_count": null,
      "outputs": [
        {
          "output_type": "stream",
          "name": "stdout",
          "text": [
            "['Gerald Tucker', 'Tricia Johnson', 'Robert Mendez']\n"
          ]
        }
      ]
    },
    {
      "cell_type": "code",
      "execution_count": null,
      "metadata": {
        "id": "SDTNoqA81Gza",
        "colab": {
          "base_uri": "https://localhost:8080/"
        },
        "outputId": "837bd67f-0349-43b8-fb8b-4bfade60b798"
      },
      "outputs": [
        {
          "output_type": "stream",
          "name": "stdout",
          "text": [
            "[0, 1, 4, 9, 16, 25, 36, 49, 64, 81]\n",
            "False\n",
            "True\n",
            "dfg dfyey  435\n",
            "[False, False, False]\n",
            "False\n",
            "[False, False, False]\n",
            "False\n"
          ]
        }
      ],
      "source": [
        "squares = list(map(lambda x: x**2, range(10)))\n",
        "print(squares)\n",
        "print(all(n > 2 for n in squares)) # all() возвращает True если все условия внутри True\n",
        "print(any(n <= 1 for n in squares)) # any() возвращает True если хоть одно из условий True\n",
        "\n",
        "# Проверяем вхождение буквы в каждое слово строки или окончание ought хотя бы одного из слов.\n",
        "s = list(map(str, input().split()))\n",
        "letter = 'a'\n",
        "\n",
        "check_letter = [letter in word.lower() for word in s]\n",
        "print(check_letter)\n",
        "print(all(check_letter))\n",
        "\n",
        "check_endidng = [word.endswith('ought') for word in s]\n",
        "print(check_endidng)\n",
        "print(any(check_endidng))"
      ]
    },
    {
      "cell_type": "code",
      "source": [
        "# РЕКУРСИЯ\n",
        "# Получение набора чисел с n или до n.\n",
        "def print_from(n: int) -> None:\n",
        "    if n > 0:\n",
        "        print(n)\n",
        "        print_from(n-1)\n",
        "#print_from(4)\n",
        "\n",
        "def print_to(n: int) -> None:\n",
        "        if n < 1: \n",
        "            return 0\n",
        "        print_to(n - 1)\n",
        "        print(n)\n",
        "#print_to(5)\n",
        "\n",
        "# Переворачивает список на входе    \n",
        "def foo(l):\n",
        "    if len(l) == 0: return 0\n",
        "    print(l[-1], end=' ')\n",
        "    l.pop()\n",
        "    foo(l)\n",
        "#foo([1,2,3])\n",
        "\n",
        "def double_fact(n):\n",
        "    if n == 1: return 1\n",
        "    if n == 2: return 2\n",
        "    f = n * double_fact(n - 2)\n",
        "    return f\n",
        "#print(double_fact(7))\n",
        "\n",
        "def fib(n):\n",
        "    if n < 2: return n\n",
        "    return fib(n - 1) + fib(n - 2)\n",
        "#print(fib(7))\n",
        "\n",
        "# Сумма элементов списка.\n",
        "s = 0\n",
        "def list_sum_recursive(l):\n",
        "    global s\n",
        "    if len(l) == 0: return s\n",
        "    s += l.pop()\n",
        "    list_sum_recursive(l)\n",
        "    return s\n",
        "#print(list_sum_recursive([1,2,3]))"
      ],
      "metadata": {
        "id": "VXoHoBDRG22X"
      },
      "execution_count": null,
      "outputs": []
    }
  ],
  "metadata": {
    "colab": {
      "provenance": [],
      "include_colab_link": true
    },
    "gpuClass": "standard",
    "kernelspec": {
      "display_name": "Python 3",
      "name": "python3"
    }
  },
  "nbformat": 4,
  "nbformat_minor": 0
}